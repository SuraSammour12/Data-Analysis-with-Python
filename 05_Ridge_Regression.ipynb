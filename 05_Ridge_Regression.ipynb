{
  "nbformat": 4,
  "nbformat_minor": 0,
  "metadata": {
    "colab": {
      "provenance": []
    },
    "kernelspec": {
      "name": "python3",
      "display_name": "Python 3"
    },
    "language_info": {
      "name": "python"
    }
  },
  "cells": [
    {
      "cell_type": "markdown",
      "source": [
        "# Ridge Regression Example: Car Price Prediction with Polynomial Features\n",
        "\n",
        "`Ridge Regression for Car Price Prediction`\n",
        "\n",
        "This project demonstrates the application of Ridge Regression to build a robust predictive model for car prices using a complex, non-linear dataset. The dataset includes features such as horsepower, vehicle age, and mileage, which together influence the car's market price.\n",
        "\n",
        "Polynomial regression is used to capture non-linear relationships between these variables, but this introduces a significant risk of overfitting—especially when using high-degree polynomial features. Overfitting happens when a model fits the training data too closely, including the noise, resulting in poor performance on unseen data.\n",
        "\n",
        "To address this, i apply Ridge Regression, a regularization technique that adds a penalty term to the regression equation to control the magnitude of the model's coefficients. This helps prevent overfitting by discouraging the model from becoming overly complex.\n",
        "\n"
      ],
      "metadata": {
        "id": "oTZOMcE7ZSYZ"
      }
    },
    {
      "cell_type": "markdown",
      "source": [
        "# What is Ridge Regression?\n",
        "Ridge Regression is a variant of linear regression that adds an L2 penalty term to the loss function. This penalty term is controlled by a hyperparameter called alpha (α). The Ridge loss function is defined as:"
      ],
      "metadata": {
        "id": "AdCRPRBQbJP-"
      }
    },
    {
      "cell_type": "markdown",
      "source": [
        "![Capture.PNG](data:image/png;base64,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)"
      ],
      "metadata": {
        "id": "7XmIp-fqbdpD"
      }
    },
    {
      "cell_type": "markdown",
      "source": [
        "MSE (Mean Squared Error): Measures how well the model fits the training data.\n",
        "\n",
        "α (Alpha): A hyperparameter that controls the amount of regularization.\n",
        "\n",
        "w_i: Model coefficients (weights).\n",
        "\n",
        "**Key Idea:**\n",
        "\n",
        "* Small Alpha → Minimal regularization, risk of overfitting.\n",
        "\n",
        "* Large Alpha → High regularization, risk of underfitting.\n",
        "\n",
        "`Optimal Alpha` is found through `Cross-Validation.`\n",
        "\n"
      ],
      "metadata": {
        "id": "Cp6f2YX4boip"
      }
    },
    {
      "cell_type": "markdown",
      "source": [
        "\n",
        "\n",
        "---\n",
        "| **Component**       | **Benefit**                                                                                          |\n",
        "| ------------------- | ---------------------------------------------------------------------------------------------------- |\n",
        "| Polynomial Features | Allowed us to capture complex non-linear relationships between the features and the price.           |\n",
        "| Ridge Regression    | Helped control overfitting and ensured the model doesn’t produce large, unrealistic coefficients.    |\n",
        "| GridSearchCV        | Automatically selected the best alpha ➜ resulting in a strong and well-balanced model.               |\n",
        "| Coefficients Table  | Gave us a clear understanding of each feature’s impact (and which interactions truly matter).        |\n",
        "| Visualization       | Showed the model’s performance in practice ➜ and allowed us to compare predictions to actual values. |\n",
        "\n"
      ],
      "metadata": {
        "id": "bd2Od-oQ-2U4"
      }
    },
    {
      "cell_type": "code",
      "source": [
        "import numpy as np\n",
        "import pandas as pd\n",
        "import matplotlib.pyplot as plt\n",
        "from sklearn.preprocessing import PolynomialFeatures, StandardScaler\n",
        "from sklearn.linear_model import Ridge\n",
        "from sklearn.model_selection import train_test_split, GridSearchCV # GridSearchCV ➜ To search for the best alpha.\n",
        "from sklearn.metrics import r2_score\n",
        "\n",
        "# -----------------------------\n",
        "# 1. Data Preparation (Simulated Complex Dataset)\n",
        "# -----------------------------\n",
        "np.random.seed(42)\n",
        "\n",
        "# Generate horsepower feature\n",
        "horsepower = np.linspace(80, 450, 100)\n",
        "noise = np.random.normal(0, 3000, size=horsepower.shape)\n",
        "\n",
        "# Simulate price with a non-linear relationship + noise\n",
        "price = 10000 + (horsepower * 75)-(0.05 * horsepower ** 2) + noise\n",
        "\n",
        "# Additional features to increase complexity\n",
        "age = np.random.randint(1, 10, size=horsepower.shape)\n",
        "mileage = np.random.randint(10000, 150000, size=horsepower.shape)\n",
        "\n",
        "# Create DataFrame\n",
        "df = pd.DataFrame({\n",
        "    'horsepower':horsepower,\n",
        "    'age':age,\n",
        "    'mileage':mileage,\n",
        "    'price':price\n",
        "})\n",
        "\n",
        "df.head()"
      ],
      "metadata": {
        "colab": {
          "base_uri": "https://localhost:8080/",
          "height": 206
        },
        "id": "Pk_IWDJWx9XS",
        "outputId": "c10c9fbf-9522-4204-8bbe-edb8a855c514"
      },
      "execution_count": 1,
      "outputs": [
        {
          "output_type": "execute_result",
          "data": {
            "text/plain": [
              "   horsepower  age  mileage         price\n",
              "0   80.000000    9    31357  17170.142459\n",
              "1   83.737374    5   129121  15514.912739\n",
              "2   87.474747    1    87505  18121.080103\n",
              "3   91.212121    3    12869  20994.016107\n",
              "4   94.949495    8    60108  15967.981667"
            ],
            "text/html": [
              "\n",
              "  <div id=\"df-5086727d-9d62-46de-bd78-39d2e0454368\" class=\"colab-df-container\">\n",
              "    <div>\n",
              "<style scoped>\n",
              "    .dataframe tbody tr th:only-of-type {\n",
              "        vertical-align: middle;\n",
              "    }\n",
              "\n",
              "    .dataframe tbody tr th {\n",
              "        vertical-align: top;\n",
              "    }\n",
              "\n",
              "    .dataframe thead th {\n",
              "        text-align: right;\n",
              "    }\n",
              "</style>\n",
              "<table border=\"1\" class=\"dataframe\">\n",
              "  <thead>\n",
              "    <tr style=\"text-align: right;\">\n",
              "      <th></th>\n",
              "      <th>horsepower</th>\n",
              "      <th>age</th>\n",
              "      <th>mileage</th>\n",
              "      <th>price</th>\n",
              "    </tr>\n",
              "  </thead>\n",
              "  <tbody>\n",
              "    <tr>\n",
              "      <th>0</th>\n",
              "      <td>80.000000</td>\n",
              "      <td>9</td>\n",
              "      <td>31357</td>\n",
              "      <td>17170.142459</td>\n",
              "    </tr>\n",
              "    <tr>\n",
              "      <th>1</th>\n",
              "      <td>83.737374</td>\n",
              "      <td>5</td>\n",
              "      <td>129121</td>\n",
              "      <td>15514.912739</td>\n",
              "    </tr>\n",
              "    <tr>\n",
              "      <th>2</th>\n",
              "      <td>87.474747</td>\n",
              "      <td>1</td>\n",
              "      <td>87505</td>\n",
              "      <td>18121.080103</td>\n",
              "    </tr>\n",
              "    <tr>\n",
              "      <th>3</th>\n",
              "      <td>91.212121</td>\n",
              "      <td>3</td>\n",
              "      <td>12869</td>\n",
              "      <td>20994.016107</td>\n",
              "    </tr>\n",
              "    <tr>\n",
              "      <th>4</th>\n",
              "      <td>94.949495</td>\n",
              "      <td>8</td>\n",
              "      <td>60108</td>\n",
              "      <td>15967.981667</td>\n",
              "    </tr>\n",
              "  </tbody>\n",
              "</table>\n",
              "</div>\n",
              "    <div class=\"colab-df-buttons\">\n",
              "\n",
              "  <div class=\"colab-df-container\">\n",
              "    <button class=\"colab-df-convert\" onclick=\"convertToInteractive('df-5086727d-9d62-46de-bd78-39d2e0454368')\"\n",
              "            title=\"Convert this dataframe to an interactive table.\"\n",
              "            style=\"display:none;\">\n",
              "\n",
              "  <svg xmlns=\"http://www.w3.org/2000/svg\" height=\"24px\" viewBox=\"0 -960 960 960\">\n",
              "    <path d=\"M120-120v-720h720v720H120Zm60-500h600v-160H180v160Zm220 220h160v-160H400v160Zm0 220h160v-160H400v160ZM180-400h160v-160H180v160Zm440 0h160v-160H620v160ZM180-180h160v-160H180v160Zm440 0h160v-160H620v160Z\"/>\n",
              "  </svg>\n",
              "    </button>\n",
              "\n",
              "  <style>\n",
              "    .colab-df-container {\n",
              "      display:flex;\n",
              "      gap: 12px;\n",
              "    }\n",
              "\n",
              "    .colab-df-convert {\n",
              "      background-color: #E8F0FE;\n",
              "      border: none;\n",
              "      border-radius: 50%;\n",
              "      cursor: pointer;\n",
              "      display: none;\n",
              "      fill: #1967D2;\n",
              "      height: 32px;\n",
              "      padding: 0 0 0 0;\n",
              "      width: 32px;\n",
              "    }\n",
              "\n",
              "    .colab-df-convert:hover {\n",
              "      background-color: #E2EBFA;\n",
              "      box-shadow: 0px 1px 2px rgba(60, 64, 67, 0.3), 0px 1px 3px 1px rgba(60, 64, 67, 0.15);\n",
              "      fill: #174EA6;\n",
              "    }\n",
              "\n",
              "    .colab-df-buttons div {\n",
              "      margin-bottom: 4px;\n",
              "    }\n",
              "\n",
              "    [theme=dark] .colab-df-convert {\n",
              "      background-color: #3B4455;\n",
              "      fill: #D2E3FC;\n",
              "    }\n",
              "\n",
              "    [theme=dark] .colab-df-convert:hover {\n",
              "      background-color: #434B5C;\n",
              "      box-shadow: 0px 1px 3px 1px rgba(0, 0, 0, 0.15);\n",
              "      filter: drop-shadow(0px 1px 2px rgba(0, 0, 0, 0.3));\n",
              "      fill: #FFFFFF;\n",
              "    }\n",
              "  </style>\n",
              "\n",
              "    <script>\n",
              "      const buttonEl =\n",
              "        document.querySelector('#df-5086727d-9d62-46de-bd78-39d2e0454368 button.colab-df-convert');\n",
              "      buttonEl.style.display =\n",
              "        google.colab.kernel.accessAllowed ? 'block' : 'none';\n",
              "\n",
              "      async function convertToInteractive(key) {\n",
              "        const element = document.querySelector('#df-5086727d-9d62-46de-bd78-39d2e0454368');\n",
              "        const dataTable =\n",
              "          await google.colab.kernel.invokeFunction('convertToInteractive',\n",
              "                                                    [key], {});\n",
              "        if (!dataTable) return;\n",
              "\n",
              "        const docLinkHtml = 'Like what you see? Visit the ' +\n",
              "          '<a target=\"_blank\" href=https://colab.research.google.com/notebooks/data_table.ipynb>data table notebook</a>'\n",
              "          + ' to learn more about interactive tables.';\n",
              "        element.innerHTML = '';\n",
              "        dataTable['output_type'] = 'display_data';\n",
              "        await google.colab.output.renderOutput(dataTable, element);\n",
              "        const docLink = document.createElement('div');\n",
              "        docLink.innerHTML = docLinkHtml;\n",
              "        element.appendChild(docLink);\n",
              "      }\n",
              "    </script>\n",
              "  </div>\n",
              "\n",
              "\n",
              "    <div id=\"df-4f0e18fb-5f41-482b-bb43-ed263284af71\">\n",
              "      <button class=\"colab-df-quickchart\" onclick=\"quickchart('df-4f0e18fb-5f41-482b-bb43-ed263284af71')\"\n",
              "                title=\"Suggest charts\"\n",
              "                style=\"display:none;\">\n",
              "\n",
              "<svg xmlns=\"http://www.w3.org/2000/svg\" height=\"24px\"viewBox=\"0 0 24 24\"\n",
              "     width=\"24px\">\n",
              "    <g>\n",
              "        <path d=\"M19 3H5c-1.1 0-2 .9-2 2v14c0 1.1.9 2 2 2h14c1.1 0 2-.9 2-2V5c0-1.1-.9-2-2-2zM9 17H7v-7h2v7zm4 0h-2V7h2v10zm4 0h-2v-4h2v4z\"/>\n",
              "    </g>\n",
              "</svg>\n",
              "      </button>\n",
              "\n",
              "<style>\n",
              "  .colab-df-quickchart {\n",
              "      --bg-color: #E8F0FE;\n",
              "      --fill-color: #1967D2;\n",
              "      --hover-bg-color: #E2EBFA;\n",
              "      --hover-fill-color: #174EA6;\n",
              "      --disabled-fill-color: #AAA;\n",
              "      --disabled-bg-color: #DDD;\n",
              "  }\n",
              "\n",
              "  [theme=dark] .colab-df-quickchart {\n",
              "      --bg-color: #3B4455;\n",
              "      --fill-color: #D2E3FC;\n",
              "      --hover-bg-color: #434B5C;\n",
              "      --hover-fill-color: #FFFFFF;\n",
              "      --disabled-bg-color: #3B4455;\n",
              "      --disabled-fill-color: #666;\n",
              "  }\n",
              "\n",
              "  .colab-df-quickchart {\n",
              "    background-color: var(--bg-color);\n",
              "    border: none;\n",
              "    border-radius: 50%;\n",
              "    cursor: pointer;\n",
              "    display: none;\n",
              "    fill: var(--fill-color);\n",
              "    height: 32px;\n",
              "    padding: 0;\n",
              "    width: 32px;\n",
              "  }\n",
              "\n",
              "  .colab-df-quickchart:hover {\n",
              "    background-color: var(--hover-bg-color);\n",
              "    box-shadow: 0 1px 2px rgba(60, 64, 67, 0.3), 0 1px 3px 1px rgba(60, 64, 67, 0.15);\n",
              "    fill: var(--button-hover-fill-color);\n",
              "  }\n",
              "\n",
              "  .colab-df-quickchart-complete:disabled,\n",
              "  .colab-df-quickchart-complete:disabled:hover {\n",
              "    background-color: var(--disabled-bg-color);\n",
              "    fill: var(--disabled-fill-color);\n",
              "    box-shadow: none;\n",
              "  }\n",
              "\n",
              "  .colab-df-spinner {\n",
              "    border: 2px solid var(--fill-color);\n",
              "    border-color: transparent;\n",
              "    border-bottom-color: var(--fill-color);\n",
              "    animation:\n",
              "      spin 1s steps(1) infinite;\n",
              "  }\n",
              "\n",
              "  @keyframes spin {\n",
              "    0% {\n",
              "      border-color: transparent;\n",
              "      border-bottom-color: var(--fill-color);\n",
              "      border-left-color: var(--fill-color);\n",
              "    }\n",
              "    20% {\n",
              "      border-color: transparent;\n",
              "      border-left-color: var(--fill-color);\n",
              "      border-top-color: var(--fill-color);\n",
              "    }\n",
              "    30% {\n",
              "      border-color: transparent;\n",
              "      border-left-color: var(--fill-color);\n",
              "      border-top-color: var(--fill-color);\n",
              "      border-right-color: var(--fill-color);\n",
              "    }\n",
              "    40% {\n",
              "      border-color: transparent;\n",
              "      border-right-color: var(--fill-color);\n",
              "      border-top-color: var(--fill-color);\n",
              "    }\n",
              "    60% {\n",
              "      border-color: transparent;\n",
              "      border-right-color: var(--fill-color);\n",
              "    }\n",
              "    80% {\n",
              "      border-color: transparent;\n",
              "      border-right-color: var(--fill-color);\n",
              "      border-bottom-color: var(--fill-color);\n",
              "    }\n",
              "    90% {\n",
              "      border-color: transparent;\n",
              "      border-bottom-color: var(--fill-color);\n",
              "    }\n",
              "  }\n",
              "</style>\n",
              "\n",
              "      <script>\n",
              "        async function quickchart(key) {\n",
              "          const quickchartButtonEl =\n",
              "            document.querySelector('#' + key + ' button');\n",
              "          quickchartButtonEl.disabled = true;  // To prevent multiple clicks.\n",
              "          quickchartButtonEl.classList.add('colab-df-spinner');\n",
              "          try {\n",
              "            const charts = await google.colab.kernel.invokeFunction(\n",
              "                'suggestCharts', [key], {});\n",
              "          } catch (error) {\n",
              "            console.error('Error during call to suggestCharts:', error);\n",
              "          }\n",
              "          quickchartButtonEl.classList.remove('colab-df-spinner');\n",
              "          quickchartButtonEl.classList.add('colab-df-quickchart-complete');\n",
              "        }\n",
              "        (() => {\n",
              "          let quickchartButtonEl =\n",
              "            document.querySelector('#df-4f0e18fb-5f41-482b-bb43-ed263284af71 button');\n",
              "          quickchartButtonEl.style.display =\n",
              "            google.colab.kernel.accessAllowed ? 'block' : 'none';\n",
              "        })();\n",
              "      </script>\n",
              "    </div>\n",
              "\n",
              "    </div>\n",
              "  </div>\n"
            ],
            "application/vnd.google.colaboratory.intrinsic+json": {
              "type": "dataframe",
              "variable_name": "df",
              "summary": "{\n  \"name\": \"df\",\n  \"rows\": 100,\n  \"fields\": [\n    {\n      \"column\": \"horsepower\",\n      \"properties\": {\n        \"dtype\": \"number\",\n        \"std\": 108.42678819269035,\n        \"min\": 80.0,\n        \"max\": 450.0,\n        \"num_unique_values\": 100,\n        \"samples\": [\n          390.2020202020202,\n          278.0808080808081,\n          341.6161616161616\n        ],\n        \"semantic_type\": \"\",\n        \"description\": \"\"\n      }\n    },\n    {\n      \"column\": \"age\",\n      \"properties\": {\n        \"dtype\": \"number\",\n        \"std\": 2,\n        \"min\": 1,\n        \"max\": 9,\n        \"num_unique_values\": 9,\n        \"samples\": [\n          7,\n          5,\n          6\n        ],\n        \"semantic_type\": \"\",\n        \"description\": \"\"\n      }\n    },\n    {\n      \"column\": \"mileage\",\n      \"properties\": {\n        \"dtype\": \"number\",\n        \"std\": 41661,\n        \"min\": 12368,\n        \"max\": 149788,\n        \"num_unique_values\": 100,\n        \"samples\": [\n          62921,\n          113746,\n          149788\n        ],\n        \"semantic_type\": \"\",\n        \"description\": \"\"\n      }\n    },\n    {\n      \"column\": \"price\",\n      \"properties\": {\n        \"dtype\": \"number\",\n        \"std\": 6037.383389421031,\n        \"min\": 13077.38250855288,\n        \"max\": 35950.78447072082,\n        \"num_unique_values\": 100,\n        \"samples\": [\n          30097.460031843686,\n          28824.64268143945,\n          30870.31884386939\n        ],\n        \"semantic_type\": \"\",\n        \"description\": \"\"\n      }\n    }\n  ]\n}"
            }
          },
          "metadata": {},
          "execution_count": 1
        }
      ]
    },
    {
      "cell_type": "code",
      "source": [
        "# Predictor variables and target variable\n",
        "x = df[['horsepower','age','mileage']] # Features\n",
        "y = df['price'] # Target variable\n",
        "\n",
        "# -----------------------------\n",
        "# 2. Data Splitting (Train/Test)\n",
        "# -----------------------------\n",
        "\n",
        "x_train , x_test, y_train, y_test = train_test_split(x, y, test_size=0.3, random_state=0)"
      ],
      "metadata": {
        "id": "-0_yOf3r2frS"
      },
      "execution_count": 2,
      "outputs": []
    },
    {
      "cell_type": "code",
      "source": [
        "# -----------------------------\n",
        "# 3. Polynomial Feature Transformation\n",
        "# -----------------------------\n",
        "poly = PolynomialFeatures(degree=3, include_bias=False)\n",
        "x_train_poly = poly.fit_transform(x_train)\n",
        "x_test_poly = poly.transform(x_test)"
      ],
      "metadata": {
        "id": "nRJg38MZ3Cdn"
      },
      "execution_count": 3,
      "outputs": []
    },
    {
      "cell_type": "code",
      "source": [
        "# -----------------------------\n",
        "# 4. Feature Scaling (Important for Ridge)\n",
        "# -----------------------------\n",
        "scaler = StandardScaler()\n",
        "x_train_poly_scaled = scaler.fit_transform(x_train_poly)\n",
        "x_test_poly_scaled = scaler.transform(x_test_poly)"
      ],
      "metadata": {
        "id": "ueMwhZSw3Z3n"
      },
      "execution_count": 4,
      "outputs": []
    },
    {
      "cell_type": "code",
      "source": [
        "# -----------------------------\n",
        "# 5. Ridge Regression with Cross-Validation (GridSearchCV)\n",
        "# -----------------------------\n",
        "from sklearn.linear_model import Ridge\n",
        "from sklearn.model_selection import GridSearchCV\n",
        "\n",
        "# Define Ridge model\n",
        "ridge = Ridge()\n",
        "\n",
        "\n",
        "# Define hyperparameter grid for alpha\n",
        "param_grid = {'alpha': np.logspace(-3, 3, 20)} # Alpha (Regularization Parameter): It controls the strength of the penalty applied to the size of the coefficients. | Values are tested from 0.001 to 1000.\n",
        "\n",
        "\n",
        "# Grid Search with 5-Fold Cross Validation\n",
        "# GridSearchCV: Tries all values using 5-fold cross-validation and selects the best one.\n",
        "grid_search = GridSearchCV(ridge, param_grid, cv=5, scoring='r2', return_train_score=True)\n",
        "grid_search.fit(x_train_poly_scaled, y_train)\n",
        "\n",
        "# Best Ridge Model\n",
        "best_ridge = grid_search.best_estimator_\n",
        "print(f\"Best Alpha: {grid_search.best_params_['alpha']}\")\n",
        "grid_search = GridSearchCV(ridge, param_grid, cv=5, scoring ='r2', return_train_score=True)\n"
      ],
      "metadata": {
        "colab": {
          "base_uri": "https://localhost:8080/"
        },
        "id": "un1iVzr33243",
        "outputId": "6c901814-8d60-4341-b970-64540c0cd2cd"
      },
      "execution_count": 9,
      "outputs": [
        {
          "output_type": "stream",
          "name": "stdout",
          "text": [
            "Best Alpha: 2.976351441631316\n"
          ]
        }
      ]
    },
    {
      "cell_type": "code",
      "source": [
        "# -----------------------------\n",
        "# 6. Model Evaluation\n",
        "# -----------------------------\n",
        "y_pred = best_ridge.predict(x_test_poly_scaled)\n",
        "\n",
        "r2 = r2_score(y_test, y_pred)\n",
        "print(f\"Test R^2 Score: {r2}\")"
      ],
      "metadata": {
        "colab": {
          "base_uri": "https://localhost:8080/"
        },
        "id": "p3XMFZwQ6Uvk",
        "outputId": "9902bc73-2731-471d-e00d-4484058a9baa"
      },
      "execution_count": 6,
      "outputs": [
        {
          "output_type": "stream",
          "name": "stdout",
          "text": [
            "Test R^2 Score: 0.7626552385150795\n"
          ]
        }
      ]
    },
    {
      "cell_type": "code",
      "source": [
        "# -----------------------------\n",
        "# 7. Visualization of Predictions\n",
        "# -----------------------------\n",
        "plt.figure(figsize=(10,6))\n",
        "plt.scatter(y_test, y_pred, color='teal', alpha=0.6)\n",
        "plt.plot([y_test.min(), y_test.max()], [y_test.min(), y_test.max()], 'r--', lw=2)\n",
        "plt.xlabel('Actual Price')\n",
        "plt.ylabel('Predicted Price')\n",
        "plt.title('Ridge Regression Predictions vs Actual (Test Data)')\n",
        "plt.grid(True)\n",
        "plt.show()\n"
      ],
      "metadata": {
        "colab": {
          "base_uri": "https://localhost:8080/",
          "height": 564
        },
        "id": "RGX6SY3m6qee",
        "outputId": "fd460b16-10ae-4f6e-897a-fd8c2218432d"
      },
      "execution_count": 7,
      "outputs": [
        {
          "output_type": "display_data",
          "data": {
            "text/plain": [
              "<Figure size 1000x600 with 1 Axes>"
            ],
            "image/png": "[encoded data removed]"
          },
          "metadata": {}
        }
      ]
    },
    {
      "cell_type": "markdown",
      "source": [
        "Red Dashed Line = Perfect Prediction Line\n",
        "\n",
        "`Its equation is:`Predicted Price = Actual Price\n",
        "\n",
        "\n",
        "* Most points are close to the red line ➜ the model is making good predictions.\n",
        "\n",
        "* Some points in the lower price range (between 15K and 22K) deviated from the line ➜ the model made some errors ➜ possibly due to noise or missing features.\n",
        "\n",
        "* In the higher price range (above 30K) ➜ the model performed very well in its predictions.\n",
        "\n"
      ],
      "metadata": {
        "id": "DVk_amXnAXQV"
      }
    },
    {
      "cell_type": "code",
      "source": [
        "# -----------------------------\n",
        "# 8. Coefficients Analysis\n",
        "# -----------------------------\n",
        "coefficients = best_ridge.coef_\n",
        "feature_names = poly.get_feature_names_out(['horsepower', 'age', 'mileage'])\n",
        "\n",
        "coef_df = pd.DataFrame({'Feature': feature_names, 'Coefficient': coefficients})\n",
        "print(coef_df.sort_values(by='Coefficient', key=abs, ascending=False))"
      ],
      "metadata": {
        "colab": {
          "base_uri": "https://localhost:8080/"
        },
        "id": "ml1uH9546uZn",
        "outputId": "1b72e8dd-3287-4dc7-8f6f-32fe0e12472e"
      },
      "execution_count": 8,
      "outputs": [
        {
          "output_type": "stream",
          "name": "stdout",
          "text": [
            "                   Feature  Coefficient\n",
            "0               horsepower  2961.976912\n",
            "2                  mileage -1391.164548\n",
            "3             horsepower^2  1169.242657\n",
            "14    horsepower mileage^2  1139.454104\n",
            "4           horsepower age   650.285957\n",
            "5       horsepower mileage   593.672504\n",
            "7              age mileage  -508.141940\n",
            "16           age^2 mileage   425.353758\n",
            "18               mileage^3   417.585622\n",
            "12        horsepower age^2   378.663253\n",
            "15                   age^3  -376.664210\n",
            "13  horsepower age mileage  -275.870783\n",
            "1                      age  -261.390709\n",
            "8                mileage^2  -253.658360\n",
            "6                    age^2  -248.385328\n",
            "9             horsepower^3  -208.371402\n",
            "17           age mileage^2   181.906199\n",
            "11    horsepower^2 mileage   -90.792179\n",
            "10        horsepower^2 age   -45.250775\n"
          ]
        }
      ]
    },
    {
      "cell_type": "markdown",
      "source": [
        "In this project, i built a Ridge Regression model with Polynomial Feature Expansion (degree=3) to predict car prices based on horsepower, age, and mileage. The main objective was to demonstrate how Ridge Regression effectively handles overfitting in complex, non-linear datasets.\n",
        "\n",
        "#  Key Findings:\n",
        "1️⃣ Horsepower is the Most Influential Feature on Price\n",
        "We found that the coefficient for horsepower was the highest (+2961).\n",
        "This means that even a small increase in horsepower ➜ significantly increases the car’s price.\n",
        "\n",
        "We also noticed that non-linear features like horsepower² and horsepower × mileage² had a noticeable impact.\n",
        "This confirms that the relationship is not simply linear — it’s complex and requires polynomial expansion to capture it.\n",
        "\n",
        "2️⃣ Mileage Has a Strong Negative Impact\n",
        "The mileage feature (number of kilometers) had a large negative coefficient (-1391).\n",
        "This indicates that as mileage increases ➜ the car’s price drops.\n",
        "\n",
        "Non-linear terms like mileage² and mileage³ added smaller effects, showing how very high mileage reduces price in a non-linear way.\n",
        "\n",
        "3️⃣ Interaction Terms Are Essential\n",
        "Interactions such as:\n",
        "\n",
        "horsepower × mileage²\n",
        "\n",
        "horsepower × age\n",
        "\n",
        "had a significant effect on price.\n",
        "These interactions allowed the model to understand real-world, complex relationships ➜ which a basic linear model wouldn’t be able to capture.\n",
        "\n",
        "4️⃣ Ridge Regularization Reduced Overfitting\n",
        "If we used Polynomial Regression without Ridge, the coefficients would be extremely large ➜ causing overfitting.\n",
        "\n",
        "But Ridge constrained the size of the coefficients, making the model more stable ➜ and able to generalize well to unseen data.\n",
        "\n",
        "5️⃣ Coefficient Analysis Gave Valuable Real-World Insights\n",
        "Large coefficients (positive or negative) indicate features that have a strong impact on price.\n",
        "\n",
        "Small coefficients (close to zero) ➜ suggest weak influence ➜ Ridge shrunk these values to simplify the model and improve generalization.\n",
        "\n",
        "\n"
      ],
      "metadata": {
        "id": "6WEzUKvw_I_x"
      }
    }
  ]
}